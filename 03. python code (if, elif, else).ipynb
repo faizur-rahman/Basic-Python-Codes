{
 "cells": [
  {
   "cell_type": "markdown",
   "metadata": {},
   "source": [
    "# <center><h1>Basic Python Coding</h1><br><h1>if, elif, else</h1></br></center>"
   ]
  },
  {
   "cell_type": "markdown",
   "metadata": {},
   "source": [
    "# 10. "
   ]
  },
  {
   "cell_type": "code",
   "execution_count": 2,
   "metadata": {},
   "outputs": [
    {
     "name": "stdout",
     "output_type": "stream",
     "text": [
      "Karim likes Robotics\n"
     ]
    }
   ],
   "source": [
    "name='Karim'\n",
    "\n",
    "if name is'Rahim':              # here 'is' means '==', u can also write'=='\n",
    "    print(\"Rahim is a good boy\")\n",
    "\n",
    "elif name =='Karim':           # u cannot write 'else if' instend of 'elif'\n",
    "    print(\"Karim likes Robotics\")\n",
    "\n",
    "else :\n",
    "    print(name) \n",
    "    print(\"likes to watch movie\")\n"
   ]
  },
  {
   "cell_type": "code",
   "execution_count": null,
   "metadata": {},
   "outputs": [],
   "source": []
  },
  {
   "cell_type": "code",
   "execution_count": null,
   "metadata": {},
   "outputs": [],
   "source": []
  }
 ],
 "metadata": {
  "kernelspec": {
   "display_name": "Python 3",
   "language": "python",
   "name": "python3"
  },
  "language_info": {
   "codemirror_mode": {
    "name": "ipython",
    "version": 3
   },
   "file_extension": ".py",
   "mimetype": "text/x-python",
   "name": "python",
   "nbconvert_exporter": "python",
   "pygments_lexer": "ipython3",
   "version": "3.7.6"
  }
 },
 "nbformat": 4,
 "nbformat_minor": 4
}
